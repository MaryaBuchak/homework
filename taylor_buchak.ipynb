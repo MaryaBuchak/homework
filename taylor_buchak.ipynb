{
 "cells": [
  {
   "cell_type": "markdown",
   "id": "84c70b78",
   "metadata": {},
   "source": [
    "## Реализация косинуса с помощью ряда Тейлора\n",
    "    \n",
    "    Посчитаем косинус с помощью ряда Тейлора и сравним его с библиотечным значением данной тригонометрической функции"
   ]
  },
  {
   "cell_type": "code",
   "execution_count": 4,
   "id": "c90d2e74",
   "metadata": {},
   "outputs": [
    {
     "name": "stdout",
     "output_type": "stream",
     "text": [
      "0.9210609940028851\n",
      "0.921060994002885\n"
     ]
    }
   ],
   "source": [
    "# import math\n",
    "\n",
    "ITERATIONS = 50\n",
    "\n",
    "def my_cos(x):\n",
    "  multiplier = 1\n",
    "  cos_value = 0\n",
    "  for i in range(0, ITERATIONS):\n",
    "    cos_value += ((-1) ** i) * ( multiplier / math.factorial(2 * i) )\n",
    "    multiplier *= x ** 2\n",
    "  return cos_value\n",
    "\n",
    "print(math.cos(0.4))\n",
    "print(my_cos(0.4))"
   ]
  },
  {
   "cell_type": "markdown",
   "id": "3ec95ae3",
   "metadata": {},
   "source": [
    "## Косинус комплексного аргумента\n",
    "     Написанная нами функция имеет возможность считать косинус комплексного аргумента. Предлагаю сравнить получившиеся значения с теми, которые предоставляет библиотека."
   ]
  },
  {
   "cell_type": "code",
   "execution_count": 5,
   "id": "1e71e2b8",
   "metadata": {},
   "outputs": [
    {
     "name": "stdout",
     "output_type": "stream",
     "text": [
      "(5+0j)\n",
      "(5.000000000000001+0j)\n"
     ]
    }
   ],
   "source": [
    "import cmath\n",
    "import math\n",
    "\n",
    "ITERATIONS = 50\n",
    "\n",
    "def my_cos(x):\n",
    "  multiplier = 1\n",
    "  cos_value = 0\n",
    "  for i in range(0, ITERATIONS):\n",
    "    cos_value += ((-1) ** i) * ( multiplier / math.factorial(2 * i) )\n",
    "    multiplier *= x ** 2\n",
    "  return cos_value\n",
    "\n",
    "complex_angle = cmath.acos(5)\n",
    "print(cmath.cos(complex_angle))\n",
    "print(my_cos(complex_angle))"
   ]
  },
  {
   "cell_type": "markdown",
   "id": "4ec6ebfd",
   "metadata": {},
   "source": [
    "## Существующий минус данной программы\n",
    "У данного алгоритма существует единственный минус: его значения при больших значениях аргумента не совпадает со значением, которые выдает библиотека."
   ]
  },
  {
   "cell_type": "code",
   "execution_count": 6,
   "id": "b05a85e9",
   "metadata": {},
   "outputs": [
    {
     "name": "stdout",
     "output_type": "stream",
     "text": [
      "<function my_cos at 0x0000021E185D20D0> <numpy.vectorize object at 0x0000021E185BAC40>\n"
     ]
    },
    {
     "data": {
      "image/png": "[encoded data removed]",
      "text/plain": [
       "<Figure size 432x288 with 1 Axes>"
      ]
     },
     "metadata": {
      "needs_background": "light"
     },
     "output_type": "display_data"
    }
   ],
   "source": [
    "import math\n",
    "import matplotlib.pyplot as plt\n",
    "import numpy as np\n",
    "\n",
    "ITERATIONS = 50\n",
    "\n",
    "def my_cos(x):\n",
    "  multiplier = 1\n",
    "  cos_value = 0\n",
    "  for i in range(0, ITERATIONS):\n",
    "    cos_value += ((-1) ** i) * ( multiplier / math.factorial(2 * i) )\n",
    "    multiplier *= x ** 2\n",
    "  return cos_value\n",
    "\n",
    "vs = np.vectorize(my_cos)\n",
    "print(my_cos, vs)\n",
    "\n",
    "angles = np.r_[-50:50:0.01]\n",
    "plt.plot(angles, np.cos(angles))\n",
    "plt.plot(angles, vs(angles))\n",
    "plt.show()\n"
   ]
  }
 ],
 "metadata": {
  "kernelspec": {
   "display_name": "Python 3 (ipykernel)",
   "language": "python",
   "name": "python3"
  },
  "language_info": {
   "codemirror_mode": {
    "name": "ipython",
    "version": 3
   },
   "file_extension": ".py",
   "mimetype": "text/x-python",
   "name": "python",
   "nbconvert_exporter": "python",
   "pygments_lexer": "ipython3",
   "version": "3.9.7"
  }
 },
 "nbformat": 4,
 "nbformat_minor": 5
}
